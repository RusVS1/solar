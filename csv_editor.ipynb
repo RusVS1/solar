{
 "cells": [
  {
   "cell_type": "code",
   "execution_count": 2,
   "metadata": {},
   "outputs": [],
   "source": [
    "import pandas as pd\n",
    "import numpy as np"
   ]
  },
  {
   "cell_type": "code",
   "execution_count": 15,
   "metadata": {},
   "outputs": [
    {
     "name": "stderr",
     "output_type": "stream",
     "text": [
      "/tmp/ipykernel_13541/203174390.py:2: DtypeWarning: Columns (28) have mixed types. Specify dtype option on import or set low_memory=False.\n",
      "  df = pd.read_csv(file, sep=';', encoding='utf-8', index_col=False)\n"
     ]
    },
    {
     "name": "stdout",
     "output_type": "stream",
     "text": [
      "  Местное время в Иркутске     T     Po      P  Pa     U  \\\n",
      "0         25.02.2009 20:00  -4.5  722.4  766.6 NaN  39.0   \n",
      "1         25.02.2009 23:00  -6.6  724.4  769.0 NaN  53.0   \n",
      "2         26.02.2009 02:00  -8.7  726.0  771.1 NaN  86.0   \n",
      "3         26.02.2009 05:00 -10.2  727.3  772.7 NaN  85.0   \n",
      "4         26.02.2009 08:00 -11.8  728.2  774.0 NaN  90.0   \n",
      "\n",
      "                                     DD   Ff  ff10  ff3  ...  \\\n",
      "0         Ветер, дующий с северо-запада  2.0   NaN  NaN  ...   \n",
      "1         Ветер, дующий с северо-запада  3.0   NaN  NaN  ...   \n",
      "2  Ветер, дующий с западо-северо-запада  2.0   NaN  NaN  ...   \n",
      "3         Ветер, дующий с северо-запада  2.0   NaN  NaN  ...   \n",
      "4         Ветер, дующий с северо-запада  1.0   NaN  NaN  ...   \n",
      "\n",
      "                                                  Cm  \\\n",
      "0                                                NaN   \n",
      "1  Высококучевые просвечивающие, расположенные на...   \n",
      "2    Высококучевые башенкообразные или хлопьевидные.   \n",
      "3    Высококучевые башенкообразные или хлопьевидные.   \n",
      "4    Высококучевые башенкообразные или хлопьевидные.   \n",
      "\n",
      "                                                  Ch    VV    Td  RRR    tR  \\\n",
      "0  Перистые (часто в виде полос) и перисто-слоист...  10.0 -16.5  NaN   NaN   \n",
      "1                                                NaN  10.0 -14.7  NaN   NaN   \n",
      "2  Перисто-кучевые одни или перисто-кучевые, сопр...   4.0 -10.6  NaN   NaN   \n",
      "3  Перисто-кучевые одни или перисто-кучевые, сопр...   4.0 -12.2  NaN   NaN   \n",
      "4  Перисто-кучевые одни или перисто-кучевые, сопр...  10.0 -13.1  0.8  12.0   \n",
      "\n",
      "       E  Tg                                                 E'   sss  \n",
      "0  Cухая NaN                                                NaN   NaN  \n",
      "1    NaN NaN                                                NaN   NaN  \n",
      "2    NaN NaN                                                NaN   NaN  \n",
      "3    NaN NaN                                                NaN   NaN  \n",
      "4  Cухая NaN  Ровный слой сухого рассыпчатого снега покрывае...  24.0  \n",
      "\n",
      "[5 rows x 29 columns]\n"
     ]
    }
   ],
   "source": [
    "#реверс файла\n",
    "df = pd.read_csv(file, sep=';', encoding='utf-8', index_col=False) \n",
    "df_reversed = df.iloc[::-1].reset_index(drop=True)\n",
    "df_reversed.to_csv(file, sep=';', index=False, encoding='utf-8')\n",
    "print(df_reversed.head())"
   ]
  },
  {
   "cell_type": "code",
   "execution_count": 4,
   "metadata": {},
   "outputs": [],
   "source": [
    "#открытие файла\n",
    "df = pd.read_csv(file, sep=';', encoding='utf-8', index_col=False)"
   ]
  },
  {
   "cell_type": "code",
   "execution_count": 5,
   "metadata": {},
   "outputs": [
    {
     "name": "stdout",
     "output_type": "stream",
     "text": [
      "   YEAR  MO  DY  HR     T     Po      P  Pa     U  \\\n",
      "0  2009   2  25  20  -4.5  722.4  766.6 NaN  39.0   \n",
      "1  2009   2  25  23  -6.6  724.4  769.0 NaN  53.0   \n",
      "2  2009   2  26   2  -8.7  726.0  771.1 NaN  86.0   \n",
      "3  2009   2  26   5 -10.2  727.3  772.7 NaN  85.0   \n",
      "4  2009   2  26   8 -11.8  728.2  774.0 NaN  90.0   \n",
      "\n",
      "                                     DD  ...  \\\n",
      "0         Ветер, дующий с северо-запада  ...   \n",
      "1         Ветер, дующий с северо-запада  ...   \n",
      "2  Ветер, дующий с западо-северо-запада  ...   \n",
      "3         Ветер, дующий с северо-запада  ...   \n",
      "4         Ветер, дующий с северо-запада  ...   \n",
      "\n",
      "                                                  Cm  \\\n",
      "0                                                NaN   \n",
      "1  Высококучевые просвечивающие, расположенные на...   \n",
      "2    Высококучевые башенкообразные или хлопьевидные.   \n",
      "3    Высококучевые башенкообразные или хлопьевидные.   \n",
      "4    Высококучевые башенкообразные или хлопьевидные.   \n",
      "\n",
      "                                                  Ch    VV    Td  RRR    tR  \\\n",
      "0  Перистые (часто в виде полос) и перисто-слоист...  10.0 -16.5  NaN   NaN   \n",
      "1                                                NaN  10.0 -14.7  NaN   NaN   \n",
      "2  Перисто-кучевые одни или перисто-кучевые, сопр...   4.0 -10.6  NaN   NaN   \n",
      "3  Перисто-кучевые одни или перисто-кучевые, сопр...   4.0 -12.2  NaN   NaN   \n",
      "4  Перисто-кучевые одни или перисто-кучевые, сопр...  10.0 -13.1  0.8  12.0   \n",
      "\n",
      "       E  Tg                                                 E'   sss  \n",
      "0  Cухая NaN                                                NaN   NaN  \n",
      "1    NaN NaN                                                NaN   NaN  \n",
      "2    NaN NaN                                                NaN   NaN  \n",
      "3    NaN NaN                                                NaN   NaN  \n",
      "4  Cухая NaN  Ровный слой сухого рассыпчатого снега покрывае...  24.0  \n",
      "\n",
      "[5 rows x 32 columns]\n"
     ]
    }
   ],
   "source": [
    "df['Местное время в Иркутске'] = pd.to_datetime(df['Местное время в Иркутске'], format='%d.%m.%Y %H:%M')\n",
    "\n",
    "df['YEAR'] = df['Местное время в Иркутске'].dt.year\n",
    "df['MO'] = df['Местное время в Иркутске'].dt.month\n",
    "df['DY'] = df['Местное время в Иркутске'].dt.day\n",
    "df['HR'] = df['Местное время в Иркутске'].dt.hour\n",
    "\n",
    "df = df.drop(columns=['Местное время в Иркутске'])\n",
    "\n",
    "cols = ['YEAR', 'MO', 'DY', 'HR'] + [col for col in df.columns if col not in ['YEAR', 'MO', 'DY', 'HR']]\n",
    "df = df[cols]\n",
    "\n",
    "print(df.head())\n",
    "\n",
    "# Сохранение в CSV файл\n",
    "df.to_csv(file, sep=';', index=False, encoding='utf-8')\n"
   ]
  },
  {
   "cell_type": "code",
   "execution_count": 3,
   "metadata": {},
   "outputs": [
    {
     "name": "stdout",
     "output_type": "stream",
     "text": [
      "Ветер, дующий с северо-запада\n",
      "Ветер, дующий с западо-северо-запада\n",
      "Ветер, дующий с запада\n",
      "Ветер, дующий с востоко-северо-востока\n",
      "Штиль, безветрие\n",
      "Ветер, дующий с востоко-юго-востока\n",
      "Ветер, дующий с западо-юго-запада\n",
      "Ветер, дующий с востока\n",
      "Ветер, дующий с юго-юго-востока\n",
      "Ветер, дующий с северо-востока\n",
      "Ветер, дующий с юго-востока\n",
      "Ветер, дующий с северо-северо-запада\n",
      "Ветер, дующий с юго-запада\n",
      "Ветер, дующий с северо-северо-востока\n",
      "Ветер, дующий с юга\n",
      "Ветер, дующий с юго-юго-запада\n",
      "Ветер, дующий с севера\n",
      "nan\n",
      "Переменное направление\n"
     ]
    }
   ],
   "source": [
    "#ветер\n",
    "unique_dd_values = df['DD'].unique()\n",
    "for i in unique_dd_values:\n",
    "    print(i)"
   ]
  },
  {
   "cell_type": "code",
   "execution_count": 7,
   "metadata": {},
   "outputs": [
    {
     "name": "stdout",
     "output_type": "stream",
     "text": [
      "100%.\n",
      "60%.\n",
      "40%.\n",
      "70 – 80%.\n",
      "90  или более, но не 100%\n",
      "20–30%.\n",
      "Облаков нет.\n",
      "50%.\n",
      "10%  или менее, но не 0\n",
      "Небо не видно из-за тумана и/или других метеорологических явлений.\n",
      "nan\n"
     ]
    }
   ],
   "source": [
    "#облачность\n",
    "unique_N_values = df['N'].unique()\n",
    "for i in unique_N_values:\n",
    "    print(i)"
   ]
  },
  {
   "cell_type": "code",
   "execution_count": 9,
   "metadata": {},
   "outputs": [
    {
     "name": "stdout",
     "output_type": "stream",
     "text": [
      " \n",
      "Ливневый снег слабый в срок наблюдения или за последний час. \n",
      "Состояние неба в общем не изменилось. \n",
      "Ливневый снег или ливневый дождь и снег. \n",
      "Облака в целом рассеиваются или становятся менее развитыми. \n",
      "Дымка. \n",
      "Ливневый снег умеренный или сильный в срок наблюдения или за последний час. \n",
      "Слабая или умеренная снежная низовая метель в целом высокая (выше уровня глаз наблюдателя). \n",
      "Ливневый(ые) дождь(и). \n",
      "Ливневый(ые) дождь(и) слабый(ые) в срок наблюдения или за последний час. \n",
      "Облака в целом образовывались или развивались. \n",
      "Видимость ухудшена дымом, например: от степных или лесных пожаров, промышленных предприятий или вулканическим пеплом. \n",
      "Слабая или умеренная пыльная или песчаная буря без заметного изменения в течение последнего часа. \n",
      "Туман или ледяной туман, неба не видно, без заметного изменения интенсивности в течение последнего часа. \n",
      "Ливневая снежная крупа или небольшой град с дождем или без него, или дождь со снегом умеренные или сильные в срок наблюдения или за последний час. \n",
      "Ливневый(ые) дождь(и) умеренный(ые) или сильный(ые) в срок наблюдения или за последний час. \n",
      "Гроза (с осадками или без них). \n",
      "Туман или ледяной туман, неба не видно, начался или усилился в течение последнего часа. \n",
      "Туман или ледяной туман. \n",
      "Дождь незамерзающий с перерывами слабый в срок наблюдения. \n",
      "Гроза сильная без града, но с дождем и/или снегом в срок наблюдения. \n",
      "Гроза слабая или умеренная без града, но с дождем и/или снегом в срок наблюдения. \n",
      "Видна молния, грома не слышно. \n",
      "Слабый дождь в срок наблюдения. Гроза в течение последнего часа, но не в срок наблюдения. \n",
      "Туман или ледяной туман, неба не видно, ослабел за последний час. \n",
      "Морось незамерзающая непрерывная слабая в срок наблюдения. \n",
      "Туман или ледяной туман, небо видно, начался или усилился в течение последнего часа. \n",
      "Гроза, но без осадков, в срок наблюдения. \n",
      "Гроза вместе с пыльной или песчаной бурей в срок наблюдения. \n",
      "Туман или ледяной туман на расстоянии в срок наблюдения, простирающийся выше уровня глаз наблюдателя. В течение последнего часа туман на станции не наблюдался. \n",
      "Ливневый(ые) дождь(и) со снегом слабый(ые) в срок наблюдения или за последний час. \n",
      "Туман или ледяной туман, небо видно, ослабел за последний час. \n",
      "Туман или ледяной туман, небо видно, без заметного изменения интенсивности в течение последнего часа. \n",
      "Ливневый(ые) дождь(и) со снегом умеренный(ые) или сильный(ые) в срок наблюдения или за последний час. \n",
      "Снег непрерывный слабый в срок наблюдения. \n",
      "Снег с перерывами слабый в срок наблюдения. \n",
      "Алмазная пыль (с туманом или без него). \n",
      "Снег неливневый. \n",
      "Снег непрерывный умеренный в срок наблюдения. \n",
      "Туман с отложением изморози, небо видно. \n",
      "Слабый или умеренный поземок в целом низкий (ниже уровня глаз наблюдателя). \n",
      "Туман с отложением изморози, неба не видно. \n",
      "Пыльная или песчаная буря в поле зрения в срок наблюдения или на станции в течение последнего часа. \n",
      "Мгла. \n",
      "Ливневый(ые) дождь(и) очень сильный(ые) в срок наблюдения или за последний час. \n",
      "Туман или обрывки ледяного тумана. \n",
      "Слабая или умеренная пыльная или песчаная буря ослабела за последний час. \n",
      "Морось незамерзающая с перерывами слабая в срок наблюдения. \n",
      "Клочья приземного или ледяного тумана на станции, на море или на суше, высотой не более 2 м над сушей или не более 10 м над морем. \n",
      "Осадки в поле зрения, достигающие поверхности земли или моря поблизости, но не на самой станции. \n",
      "Дождь незамерзающий непрерывный слабый в срок наблюдения. \n",
      "Дождь незамерзающий непрерывный умеренный в срок наблюдения. \n",
      "Более или менее сплошной слой приземного или ледяного тумана на станции, на море или на суше, высотой не более 2 м над сушей или не более 10 м над морем. \n",
      "Развитие облачности не наблюдалось или не наблюдается. \n",
      "Ливневая снежная крупа или небольшой град с дождем или без него, или дождь со снегом слабые в срок наблюдения или за последний час. \n",
      "Осадки в поле зрения, не достигающие поверхности земли или моря поблизости. \n",
      "Ливневый град, или дождь и град. \n",
      "Ливневый снег умеренный или сильный в срок наблюдения или за последний час.  Диаметр отложения при гололеде составляет 1 мм.\n",
      "Сильная снежная низовая метель в целом высокая (выше уровня глаз наблюдателя). \n",
      "Слабая или умеренная пыльная или песчаная буря началась или усилилась в течение последнего часа. \n",
      "Осадки в поле зрения, достигающие поверхности земли или моря на расстоянии более 5 км от станции. \n",
      "Гроза слабая или умеренная с градом в срок наблюдения.  Максимальный диаметр градин составляет 4 мм.\n",
      "Ливневый снег слабый в срок наблюдения или за последний час.  Диаметр отложения при гололеде составляет 1 мм.\n",
      "Снежные зерна (с туманом или без него). \n",
      "Сильный поземок в целом низкий (ниже уровня глаз наблюдателя). \n",
      "Морось (незамерзающая) или снежные зерна неливневые. \n",
      "Состояние неба в общем не изменилось.  Диаметр отложения мокрого снега составляет 2 мм.\n",
      "Морось незамерзающая непрерывная умеренная в срок наблюдения. \n",
      "Состояние неба в общем не изменилось.  Диаметр смешанного отложения составляет 1 мм.\n"
     ]
    }
   ],
   "source": [
    "#погода\n",
    "unique_WW_values = df['WW'].unique()\n",
    "for i in unique_WW_values:\n",
    "    print(i)"
   ]
  },
  {
   "cell_type": "code",
   "execution_count": 25,
   "metadata": {},
   "outputs": [
    {
     "name": "stdout",
     "output_type": "stream",
     "text": [
      "nan\n",
      "24.0\n",
      "23.0\n",
      "22.0\n",
      "26.0\n",
      "20.0\n",
      "21.0\n",
      "19.0\n",
      "17.0\n",
      "18.0\n",
      "15.0\n",
      "13.0\n",
      "12.0\n",
      "9.0\n",
      "8.0\n",
      "2.0\n",
      "16.0\n",
      "4.0\n",
      "1.0\n",
      "5.0\n",
      "3.0\n",
      "6.0\n",
      "7.0\n",
      "10.0\n",
      "14.0\n",
      "11.0\n",
      "25.0\n",
      "27.0\n",
      "0.0\n",
      "28.0\n",
      "29.0\n",
      "31.0\n",
      "30.0\n",
      "34.0\n",
      "37.0\n",
      "36.0\n",
      "35.0\n",
      "38.0\n",
      "33.0\n",
      "39.0\n",
      "42.0\n",
      "44.0\n",
      "43.0\n",
      "41.0\n",
      "40.0\n",
      "Менее 0.5\n",
      "Снежный покров не постоянный.\n",
      "32.0\n",
      "45.0\n",
      "46.0\n",
      "50.0\n",
      "49.0\n",
      "47.0\n",
      "51.0\n",
      "55.0\n",
      "52.0\n",
      "48.0\n"
     ]
    }
   ],
   "source": [
    "#\n",
    "unique_prob_values = df['sss'].unique()\n",
    "for i in unique_prob_values:\n",
    "    print(i)"
   ]
  },
  {
   "cell_type": "code",
   "execution_count": 3,
   "metadata": {},
   "outputs": [],
   "source": [
    "from datetime import datetime, timedelta\n",
    "\n",
    "df = pd.read_csv(file, delimiter=';')\n",
    "\n",
    "start_date = datetime(year=2023, month=1, day=1) \n",
    "date_range = [start_date + timedelta(hours=i) for i in range(8760)]\n",
    "\n",
    "df['MO'] = [date.month for date in date_range]  \n",
    "df['DY'] = [date.day for date in date_range]     \n",
    "df['HR'] = [date.hour for date in date_range]  \n",
    "\n",
    "df = df[['MO', 'DY', 'HR', 'sinα', 'Ho']]\n",
    "\n",
    "df.to_csv(\"rad.csv\", index=False, sep=';')"
   ]
  },
  {
   "cell_type": "code",
   "execution_count": 5,
   "metadata": {},
   "outputs": [],
   "source": [
    "df = pd.read_csv('data/train.csv', sep=';', encoding='utf-8', index_col=False) "
   ]
  },
  {
   "cell_type": "code",
   "execution_count": null,
   "metadata": {},
   "outputs": [],
   "source": [
    "drop_columns = ['P', 'Pa', 'ff10', 'ff3', 'Tn', 'Tx', 'VV', 'Td', 'E', 'Tg', \"E'\", 'sss']\n",
    "df = df.drop(columns=drop_columns, errors='ignore')"
   ]
  },
  {
   "cell_type": "code",
   "execution_count": 9,
   "metadata": {},
   "outputs": [],
   "source": [
    "df = df.drop(columns=['DD','N','WW','W1','W2','Cl','Nh','H','Cm','Ch','RRR','tR'], errors='ignore')"
   ]
  },
  {
   "cell_type": "code",
   "execution_count": 10,
   "metadata": {},
   "outputs": [],
   "source": [
    "df.to_csv('data/train.csv', sep=';', index=False, encoding='utf-8')"
   ]
  },
  {
   "cell_type": "code",
   "execution_count": null,
   "metadata": {},
   "outputs": [
    {
     "name": "stdout",
     "output_type": "stream",
     "text": [
      "YEAR    int64\n",
      "MO      int64\n",
      "DY      int64\n",
      "HR      int64\n",
      "dtype: object\n",
      "Уникальные значения в столбце YEAR:\n",
      "[2009 2010 2011 2012 2013 2014 2015 2016 2017 2018 2019 2020 2021 2022\n",
      " 2023 2024]\n",
      "Уникальные значения в столбце MO:\n",
      "[ 2  3  4  5  6  7  8  9 10 11 12  1]\n",
      "Уникальные значения в столбце DY:\n",
      "[25 26 27 28  1  2  3  4  5  6  7  8  9 10 11 12 13 14 15 16 17 18 19 20\n",
      " 21 22 23 24 29 30 31]\n",
      "Уникальные значения в столбце HR:\n",
      "[20 23  2  5  8 11 14 17]\n",
      "YEAR    0\n",
      "MO      0\n",
      "DY      0\n",
      "HR      0\n",
      "dtype: int64\n",
      "Empty DataFrame\n",
      "Columns: [YEAR, MO, DY, HR, T, Po, U, Ff, datetime]\n",
      "Index: []\n"
     ]
    }
   ],
   "source": [
    "data = pd.read_csv('data/train.csv', sep=';')\n",
    "\n",
    "print(data[['YEAR', 'MO', 'DY', 'HR']].dtypes)\n",
    "\n",
    "print(\"Уникальные значения в столбце YEAR:\")\n",
    "print(data['YEAR'].unique())\n",
    "print(\"Уникальные значения в столбце MO:\")\n",
    "print(data['MO'].unique())\n",
    "print(\"Уникальные значения в столбце DY:\")\n",
    "print(data['DY'].unique())\n",
    "print(\"Уникальные значения в столбце HR:\")\n",
    "print(data['HR'].unique())\n",
    "\n",
    "data[['YEAR', 'MO', 'DY', 'HR']] = data[['YEAR', 'MO', 'DY', 'HR']].apply(pd.to_numeric, errors='coerce')\n",
    "\n",
    "print(data[['YEAR', 'MO', 'DY', 'HR']].isnull().sum())\n",
    "\n",
    "data_cleaned = data.dropna(subset=['YEAR', 'MO', 'DY', 'HR'])\n",
    "\n",
    "data_cleaned['datetime'] = pd.to_datetime(data_cleaned[['YEAR', 'MO', 'DY', 'HR']].astype(str).agg('-'.join, axis=1), errors='coerce')\n",
    "\n",
    "print(data_cleaned[data_cleaned['datetime'].isnull()])\n",
    "\n",
    "data_cleaned.set_index('datetime', inplace=True)\n",
    "\n",
    "hourly_data = pd.DataFrame()\n",
    "\n",
    "hourly_data['T'] = data_cleaned['T'].resample('H').interpolate(method='linear')\n",
    "hourly_data['Po'] = data_cleaned['Po'].resample('H').interpolate(method='linear')\n",
    "hourly_data['U'] = data_cleaned['U'].resample('H').interpolate(method='linear')\n",
    "hourly_data['Ff'] = data_cleaned['Ff'].resample('H').interpolate(method='linear')\n",
    "\n",
    "hourly_data['YEAR'] = hourly_data.index.year\n",
    "hourly_data['MO'] = hourly_data.index.month\n",
    "hourly_data['DY'] = hourly_data.index.day\n",
    "hourly_data['HR'] = hourly_data.index.hour\n",
    "\n",
    "hourly_data = hourly_data[['YEAR', 'MO', 'DY', 'HR', 'T', 'Po', 'U', 'Ff']]\n",
    "\n",
    "hourly_data.to_csv('hourly_data.csv', sep=';', index=False)\n"
   ]
  },
  {
   "cell_type": "code",
   "execution_count": null,
   "metadata": {},
   "outputs": [
    {
     "name": "stdout",
     "output_type": "stream",
     "text": [
      "Количество пропущенных значений в каждом столбце:\n",
      "YEAR                  0\n",
      "MO                    0\n",
      "DY                    0\n",
      "HR                    0\n",
      "T                     0\n",
      "Po                    0\n",
      "U                     0\n",
      "Ff                    0\n",
      "sinα                  0\n",
      "Ho                    0\n",
      "ALLSKY_SFC_SW_DWN    41\n",
      "dtype: int64\n"
     ]
    }
   ],
   "source": [
    "csv_file_path = \"data/train.csv\"\n",
    "data = pd.read_csv(csv_file_path, sep=';', encoding='utf-8', index_col=False)\n",
    "missing_data = data.isna().sum()\n",
    "print(\"Количество пропущенных значений в каждом столбце:\")\n",
    "print(missing_data)"
   ]
  },
  {
   "cell_type": "code",
   "execution_count": 5,
   "metadata": {},
   "outputs": [],
   "source": [
    "csv = \"test.csv\"\n",
    "df = pd.read_csv(csv, sep=';', encoding='utf-8', index_col=False)\n",
    "df = df.drop(columns=['ALLSKY_SFC_SW_DWN'], errors='ignore')\n",
    "df.to_csv(csv, sep=';', index=False, encoding='utf-8')"
   ]
  },
  {
   "cell_type": "code",
   "execution_count": 31,
   "metadata": {},
   "outputs": [],
   "source": [
    "solar = \"solar.csv\"\n",
    "file = \"predictions_output.csv\"\n",
    "df = pd.read_csv(file, sep=';', encoding='utf-8', index_col=False)\n",
    "df2 = pd.read_csv(solar, delimiter=';', encoding='utf-8', index_col=False)\n",
    "merged_df = pd.merge(df, df2[['YEAR', 'MO', 'DY', 'HR', 'ALLSKY_SFC_SW_DWN']], on=['YEAR', 'MO', 'DY', 'HR'], how='left')\n",
    "merged_df.to_csv(file, index=False, sep=';')"
   ]
  },
  {
   "cell_type": "code",
   "execution_count": 3,
   "metadata": {},
   "outputs": [
    {
     "name": "stdout",
     "output_type": "stream",
     "text": [
      "28\n",
      "       YEAR  MO  DY  HR     T     Po      P   Pa     U  \\\n",
      "12028  2013   4  17   8   NaN    NaN    NaN  NaN   NaN   \n",
      "19297  2015  10  13   5   2.3  721.6  764.5 -1.0  81.0   \n",
      "19411  2015  10  27  17  -1.2  728.5  772.5  1.1  73.0   \n",
      "19503  2015  11   8   5 -11.2  721.8  767.0 -1.3  90.0   \n",
      "20080  2016   1  19  11 -25.1  732.7  781.3  0.7  75.0   \n",
      "20681  2016   4   3  17  12.2  718.9  760.1 -0.6  20.0   \n",
      "20807  2016   4  19  11   8.5  721.1  763.0  1.4  71.0   \n",
      "21004  2016   5  14   2   3.4  724.3  767.2  0.0  76.0   \n",
      "23215  2017   2  14  11 -13.8  730.4  776.7  0.0  78.0   \n",
      "24281  2017   6  27  17  26.9  716.5  755.3 -1.0  47.0   \n",
      "25163  2017  10  15  23  -2.0  727.6  771.7 -0.3  65.0   \n",
      "25164  2017  10  16   2  -4.2  726.9  771.2 -0.7  64.0   \n",
      "25165  2017  10  16   5  -5.7  725.9  770.5 -1.0  70.0   \n",
      "29329  2019   3  20  17  -0.3  728.0  771.8 -0.6  37.0   \n",
      "29352  2019   3  23  14   7.0  720.5  762.7 -1.3  32.0   \n",
      "29815  2019   5  20  11  15.1  719.3  760.1 -0.6  28.0   \n",
      "29849  2019   5  24  17  15.3  719.2  760.0 -0.5  34.0   \n",
      "32839  2020   6   1  14  14.7  710.5  750.7 -0.8  63.0   \n",
      "34055  2020  10  31  14   1.7  724.0  767.2  0.1  59.0   \n",
      "34076  2020  11   3   5  -6.6  723.7  768.2  0.0  78.0   \n",
      "35619  2021   5  15   2   5.6  718.6  760.9  0.0  34.0   \n",
      "36225  2021   7  29  20  13.5  714.5  755.2  1.6  90.0   \n",
      "36664  2021   9  22  20   7.3  722.5  764.6  1.4  77.0   \n",
      "37175  2021  11  25  17   0.9  719.4  762.4 -1.3  61.0   \n",
      "37176  2021  11  25  20  -0.3  719.1  762.3 -0.3  69.0   \n",
      "37178  2021  11  26   2  -0.1  715.6  758.5 -2.1  74.0   \n",
      "37179  2021  11  26   5   0.6  713.9  756.7 -1.7  74.0   \n",
      "39206  2022   8   6  23  11.9  719.4  760.6  0.6  79.0   \n",
      "\n",
      "                                           DD  ...   Cm   Ch    VV    Td  \\\n",
      "12028                                     NaN  ...  NaN  NaN   4.1   NaN   \n",
      "19297                 Ветер, дующий с востока  ...  NaN  NaN   NaN  -0.6   \n",
      "19411           Ветер, дующий с северо-запада  ...  NaN  NaN   NaN  -5.4   \n",
      "19503                 Ветер, дующий с востока  ...  NaN  NaN   NaN -12.5   \n",
      "20080  Ветер, дующий с востоко-северо-востока  ...  NaN  NaN   NaN -28.3   \n",
      "20681    Ветер, дующий с северо-северо-запада  ...  NaN  NaN   NaN -10.1   \n",
      "20807                  Ветер, дующий с севера  ...  NaN  NaN   NaN   3.4   \n",
      "21004    Ветер, дующий с западо-северо-запада  ...  NaN  NaN   NaN  -0.4   \n",
      "23215                        Штиль, безветрие  ...  NaN  NaN   NaN -16.9   \n",
      "24281           Ветер, дующий с северо-запада  ...  NaN  NaN   NaN  14.6   \n",
      "25163  Ветер, дующий с востоко-северо-востока  ...  NaN  NaN   NaN  -7.7   \n",
      "25164  Ветер, дующий с востоко-северо-востока  ...  NaN  NaN   NaN -10.1   \n",
      "25165                 Ветер, дующий с востока  ...  NaN  NaN   NaN -10.3   \n",
      "29329    Ветер, дующий с северо-северо-запада  ...  NaN  NaN   NaN -13.4   \n",
      "29352                  Ветер, дующий с севера  ...  NaN  NaN   NaN  -8.7   \n",
      "29815             Ветер, дующий с юго-востока  ...  NaN  NaN   NaN  -3.6   \n",
      "29849                  Ветер, дующий с севера  ...  NaN  NaN   NaN  -0.5   \n",
      "32839           Ветер, дующий с северо-запада  ...  NaN  NaN   NaN   7.6   \n",
      "34055    Ветер, дующий с западо-северо-запада  ...  NaN  NaN   NaN  -5.6   \n",
      "34076                 Ветер, дующий с востока  ...  NaN  NaN   NaN  -9.9   \n",
      "35619             Ветер, дующий с юго-востока  ...  NaN  NaN   NaN  -9.0   \n",
      "36225    Ветер, дующий с западо-северо-запада  ...  NaN  NaN   NaN  11.8   \n",
      "36664    Ветер, дующий с западо-северо-запада  ...  NaN  NaN   NaN   3.5   \n",
      "37175         Ветер, дующий с юго-юго-востока  ...  NaN  NaN  20.0  -5.8   \n",
      "37176             Ветер, дующий с юго-востока  ...  NaN  NaN  20.0  -5.3   \n",
      "37178         Ветер, дующий с юго-юго-востока  ...  NaN  NaN  20.0  -4.3   \n",
      "37179         Ветер, дующий с юго-юго-востока  ...  NaN  NaN  20.0  -3.6   \n",
      "39206                  Ветер, дующий с запада  ...  NaN  NaN   NaN   8.4   \n",
      "\n",
      "               RRR    tR    E  Tg   E'  sss  \n",
      "12028          NaN   NaN  NaN NaN  NaN  NaN  \n",
      "19297          NaN   NaN  NaN NaN  NaN  NaN  \n",
      "19411          NaN   NaN  NaN NaN  NaN  NaN  \n",
      "19503          NaN   NaN  NaN NaN  NaN  NaN  \n",
      "20080          NaN   NaN  NaN NaN  NaN  NaN  \n",
      "20681          NaN   NaN  NaN NaN  NaN  NaN  \n",
      "20807          NaN   NaN  NaN NaN  NaN  NaN  \n",
      "21004          NaN   NaN  NaN NaN  NaN  NaN  \n",
      "23215          NaN   NaN  NaN NaN  NaN  NaN  \n",
      "24281          NaN   NaN  NaN NaN  NaN  NaN  \n",
      "25163          NaN   NaN  NaN NaN  NaN  NaN  \n",
      "25164          NaN   NaN  NaN NaN  NaN  NaN  \n",
      "25165          NaN   NaN  NaN NaN  NaN  NaN  \n",
      "29329          NaN   NaN  NaN NaN  NaN  NaN  \n",
      "29352          NaN   NaN  NaN NaN  NaN  NaN  \n",
      "29815          NaN   NaN  NaN NaN  NaN  NaN  \n",
      "29849          NaN   NaN  NaN NaN  NaN  NaN  \n",
      "32839          NaN   NaN  NaN NaN  NaN  NaN  \n",
      "34055          NaN   NaN  NaN NaN  NaN  NaN  \n",
      "34076          NaN   NaN  NaN NaN  NaN  NaN  \n",
      "35619          NaN   NaN  NaN NaN  NaN  NaN  \n",
      "36225  Осадков нет  12.0  NaN NaN  NaN  NaN  \n",
      "36664  Осадков нет  12.0  NaN NaN  NaN  NaN  \n",
      "37175          NaN   NaN  NaN NaN  NaN  NaN  \n",
      "37176          NaN   NaN  NaN NaN  NaN  NaN  \n",
      "37178          NaN   NaN  NaN NaN  NaN  NaN  \n",
      "37179          NaN   NaN  NaN NaN  NaN  NaN  \n",
      "39206          NaN   NaN  NaN NaN  NaN  NaN  \n",
      "\n",
      "[28 rows x 32 columns]\n"
     ]
    }
   ],
   "source": [
    "import pandas as pd\n",
    "df = pd.read_csv(\"data/25.02.2009-03.06.2024.csv\", sep=';', encoding='utf-8', index_col=False)\n",
    "mis = df[\"N\"].isnull().sum()\n",
    "print(mis)\n",
    "row_mis = df[df[\"N\"].isnull()]\n",
    "print(row_mis)"
   ]
  },
  {
   "cell_type": "code",
   "execution_count": 9,
   "metadata": {},
   "outputs": [
    {
     "name": "stdout",
     "output_type": "stream",
     "text": [
      "YEAR                                                 2015\n",
      "MO                                                     10\n",
      "DY                                                     13\n",
      "HR                                                      8\n",
      "T                                                     2.0\n",
      "Po                                                  720.6\n",
      "P                                                   763.5\n",
      "Pa                                                   -1.0\n",
      "U                                                    81.0\n",
      "DD                                Ветер, дующий с востока\n",
      "Ff                                                    1.0\n",
      "ff10                                                  NaN\n",
      "ff3                                                   NaN\n",
      "N                                                 20–30%.\n",
      "WW                                                       \n",
      "W1                                                    NaN\n",
      "W2                                                    NaN\n",
      "Tn                                                    1.5\n",
      "Tx                                                    NaN\n",
      "Cl      Слоисто-кучевых, слоистых, кучевых или кучево-...\n",
      "Nh                                           Облаков нет.\n",
      "H                        2500 или более, или облаков нет.\n",
      "Cm      Высококучевых, высокослоистых или слоисто-дожд...\n",
      "Ch      Перистые нитевидные, иногда когтевидные, не ра...\n",
      "VV                                                   50.0\n",
      "Td                                                   -1.0\n",
      "RRR                                           Осадков нет\n",
      "tR                                                   12.0\n",
      "E                                                     NaN\n",
      "Tg                                                    NaN\n",
      "E'                                                    NaN\n",
      "sss                                                   NaN\n",
      "Name: 19298, dtype: object\n"
     ]
    }
   ],
   "source": [
    "print(df.iloc[19298])"
   ]
  },
  {
   "cell_type": "code",
   "execution_count": 32,
   "metadata": {},
   "outputs": [],
   "source": [
    "df = pd.read_csv(\"data/25.02.2009-03.06.2024.csv\", sep=';', encoding='utf-8', index_col=False)\n",
    "\n",
    "selected_columns = [\"YEAR\", \"MO\", \"DY\", \"HR\", \"W1\"]\n",
    "df_selected = df[selected_columns]\n",
    "\n",
    "df_selected.to_csv(\"weather.csv\", index=False, sep=\";\")"
   ]
  },
  {
   "cell_type": "code",
   "execution_count": 36,
   "metadata": {},
   "outputs": [
    {
     "name": "stdout",
     "output_type": "stream",
     "text": [
      "YEAR    0\n",
      "MO      0\n",
      "DY      0\n",
      "HR      0\n",
      "dtype: int64\n",
      "Empty DataFrame\n",
      "Columns: [YEAR, MO, DY, HR, W1, datetime]\n",
      "Index: []\n"
     ]
    },
    {
     "name": "stderr",
     "output_type": "stream",
     "text": [
      "/tmp/ipykernel_43385/2428524372.py:17: FutureWarning: 'H' is deprecated and will be removed in a future version, please use 'h' instead.\n",
      "  hourly_data['W1'] = data_cleaned['W1'].resample('H').interpolate(method='linear')\n"
     ]
    }
   ],
   "source": [
    "data = pd.read_csv('weather.csv', sep=';')\n",
    "\n",
    "data[['YEAR', 'MO', 'DY', 'HR']] = data[['YEAR', 'MO', 'DY', 'HR']].apply(pd.to_numeric, errors='coerce')\n",
    "\n",
    "print(data[['YEAR', 'MO', 'DY', 'HR']].isnull().sum())\n",
    "\n",
    "data_cleaned = data.dropna(subset=['YEAR', 'MO', 'DY', 'HR'])\n",
    "\n",
    "data_cleaned['datetime'] = pd.to_datetime(data_cleaned[['YEAR', 'MO', 'DY', 'HR']].astype(str).agg('-'.join, axis=1), errors='coerce')\n",
    "\n",
    "print(data_cleaned[data_cleaned['datetime'].isnull()])\n",
    "\n",
    "data_cleaned.set_index('datetime', inplace=True)\n",
    "\n",
    "hourly_data = pd.DataFrame()\n",
    "\n",
    "hourly_data['W1'] = data_cleaned['W1'].resample('H').interpolate(method='linear')\n",
    "hourly_data['YEAR'] = hourly_data.index.year\n",
    "hourly_data['MO'] = hourly_data.index.month\n",
    "hourly_data['DY'] = hourly_data.index.day\n",
    "hourly_data['HR'] = hourly_data.index.hour\n",
    "\n",
    "hourly_data = hourly_data[['YEAR', 'MO', 'DY', 'HR', 'W1']]\n",
    "\n",
    "hourly_data.to_csv('weather.csv', sep=';', index=False)\n",
    "\n"
   ]
  },
  {
   "cell_type": "code",
   "execution_count": 43,
   "metadata": {},
   "outputs": [],
   "source": [
    "df = pd.read_csv(\"test.csv\", sep=';', encoding='utf-8', index_col=False)\n",
    "df2 = pd.read_csv(\"weather.csv\", delimiter=';', encoding='utf-8', index_col=False)\n",
    "merged_df = pd.merge(df, df2[['YEAR', 'MO', 'DY', 'HR', 'W1']], on=['YEAR', 'MO', 'DY', 'HR'], how='left')\n",
    "merged_df.to_csv('test.csv', sep=';', index=False)"
   ]
  },
  {
   "cell_type": "code",
   "execution_count": 35,
   "metadata": {},
   "outputs": [],
   "source": [
    "df = pd.read_csv(\"weather.csv\", sep=';', index_col=False, encoding='utf-8')\n",
    "df['W1'] = df['W1'].fillna(0.0)\n",
    "df.to_csv(\"weather.csv\", index=False, sep=';')"
   ]
  },
  {
   "cell_type": "code",
   "execution_count": null,
   "metadata": {},
   "outputs": [],
   "source": []
  }
 ],
 "metadata": {
  "kernelspec": {
   "display_name": "Python 3",
   "language": "python",
   "name": "python3"
  },
  "language_info": {
   "codemirror_mode": {
    "name": "ipython",
    "version": 3
   },
   "file_extension": ".py",
   "mimetype": "text/x-python",
   "name": "python",
   "nbconvert_exporter": "python",
   "pygments_lexer": "ipython3",
   "version": "3.10.12"
  }
 },
 "nbformat": 4,
 "nbformat_minor": 2
}
